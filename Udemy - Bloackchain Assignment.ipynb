{
 "cells": [
  {
   "cell_type": "code",
   "execution_count": null,
   "metadata": {
    "collapsed": true
   },
   "outputs": [],
   "source": [
    "# Test 1\n",
    "\n",
    "name = input('Enter your name:')\n",
    "age = int(input ('Enter your age:'))\n",
    "\n",
    "def print_name():\n",
    "    print('My name is {} and age is {}'.format(name,age))\n",
    "\n",
    "print_name()\n",
    "\n",
    "def print_any(fname,lname):\n",
    "    print('My full name is{} {}.'.format(fname,lname))\n",
    "\n",
    "print_any('Nav','Dav')\n",
    "\n",
    "def cal_decade():\n",
    "    age = int(input ('Enter your age:'))\n",
    "    decade = age //10\n",
    "    print('You have lived {} decades'.format(decade))\n"
   ]
  },
  {
   "cell_type": "code",
   "execution_count": null,
   "metadata": {},
   "outputs": [],
   "source": [
    "# Test 2 \n",
    "name = []\n",
    "for i in range(5):\n",
    "    name.append(input('Enter your name:')) \n",
    "\n",
    "for i in name:\n",
    "    if len(i) > 5:\n",
    "        if 'n' in i or 'N' in i:\n",
    "            print(i,len(i))\n",
    "\n",
    "while len(name) > 0:\n",
    "    for i in name:\n",
    "        name.pop()\n",
    "        \n",
    "   "
   ]
  },
  {
   "cell_type": "code",
   "execution_count": null,
   "metadata": {},
   "outputs": [],
   "source": []
  },
  {
   "cell_type": "code",
   "execution_count": null,
   "metadata": {
    "collapsed": true
   },
   "outputs": [],
   "source": []
  }
 ],
 "metadata": {
  "kernelspec": {
   "display_name": "Python 3",
   "language": "python",
   "name": "python3"
  },
  "language_info": {
   "codemirror_mode": {
    "name": "ipython",
    "version": 3
   },
   "file_extension": ".py",
   "mimetype": "text/x-python",
   "name": "python",
   "nbconvert_exporter": "python",
   "pygments_lexer": "ipython3",
   "version": "3.6.3"
  }
 },
 "nbformat": 4,
 "nbformat_minor": 2
}
