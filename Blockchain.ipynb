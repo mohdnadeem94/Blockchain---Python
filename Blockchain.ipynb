{
 "cells": [
  {
   "cell_type": "code",
   "execution_count": null,
   "metadata": {
    "collapsed": true
   },
   "outputs": [],
   "source": [
    "name = input('Enter your name:')\n",
    "age = int(input ('Enter your age:'))\n",
    "\n",
    "def print_name():\n",
    "    print('My name is {} and age is {}'.format(name,age))\n",
    "\n",
    "print_name()\n",
    "\n",
    "def print_any(fname,lname):\n",
    "    print('My full name is{} {}.'.format(fname,lname))\n",
    "\n",
    "print_any('Nav','Dav')\n",
    "\n",
    "def cal_decade():\n",
    "    age = int(input ('Enter your age:'))\n",
    "    decade = age //10\n",
    "    print('You have lived {} decades'.format(decade))\n"
   ]
  },
  {
   "cell_type": "code",
   "execution_count": 4,
   "metadata": {},
   "outputs": [
    {
     "name": "stdout",
     "output_type": "stream",
     "text": [
      "Please Choose\n",
      "1.Enter the transaction amount\n",
      "2.Output the blocks\n",
      "h.Manipuulate the blockchain\n",
      "q.Quit\n",
      "Your Choice:1\n",
      "Enter the amount:2\n",
      "Please Choose\n",
      "1.Enter the transaction amount\n",
      "2.Output the blocks\n",
      "h.Manipuulate the blockchain\n",
      "q.Quit\n",
      "Your Choice:1\n",
      "Enter the amount:3\n",
      "Please Choose\n",
      "1.Enter the transaction amount\n",
      "2.Output the blocks\n",
      "h.Manipuulate the blockchain\n",
      "q.Quit\n",
      "Your Choice:2\n",
      "Output Block\n",
      "[[1], 2.0]\n",
      "Output Block\n",
      "[[[1], 2.0], 3.0]\n",
      "Please Choose\n",
      "1.Enter the transaction amount\n",
      "2.Output the blocks\n",
      "h.Manipuulate the blockchain\n",
      "q.Quit\n",
      "Your Choice:h\n",
      "Invalid Blockchain!!\n",
      "Done\n"
     ]
    }
   ],
   "source": [
    "blockchain = []\n",
    "\n",
    "def get_last_value():\n",
    "    \"\"\" Return last value appended\"\"\"\n",
    "    if len(blockchain) < 1:\n",
    "        return None\n",
    "    return blockchain[-1]\n",
    "\n",
    "def add_value(amount, last_tr=[1.0]):\n",
    "    if last_tr == None:\n",
    "        last_tr = [1]\n",
    "    blockchain.append([last_tr,amount])\n",
    "    \n",
    "def get_transactional_value():\n",
    "    return float(input('Enter the amount:')) \n",
    "\n",
    "def get_user_choice():\n",
    "    return input('Your Choice:')\n",
    "\n",
    "\n",
    "def print_blockchain_elements():\n",
    "    for block in blockchain:\n",
    "            print('Output Block')\n",
    "            print(block)\n",
    "\n",
    "def verify_chain():\n",
    "    is_valid = True\n",
    "    blockchain_index = 0\n",
    "    for block in blockchain:\n",
    "        if blockchain_index == 0:\n",
    "            blockchain_index=+1\n",
    "        elif block[0] == blockchain[blockchain_index - 1]:\n",
    "            is_valid = True\n",
    "        else:\n",
    "            is_valid = False\n",
    "            break\n",
    "        blockchain_index=+1\n",
    "    \n",
    "    return is_valid\n",
    "            \n",
    "#print(blockchain)\n",
    "\n",
    "while True:\n",
    "    print('Please Choose')\n",
    "    print('1.Enter the transaction amount')\n",
    "    print('2.Output the blocks')\n",
    "    print('h.Manipuulate the blockchain')\n",
    "    print('q.Quit')\n",
    "    user_choice = get_user_choice()\n",
    "    \n",
    "    if user_choice =='1':\n",
    "        tx_amount =get_transactional_value()\n",
    "        add_value(tx_amount,get_last_value())\n",
    "    elif user_choice =='2':\n",
    "        print_blockchain_elements()\n",
    "    elif user_choice =='h':\n",
    "        if len(blockchain)>=1:\n",
    "            blockchain[0] = [2]\n",
    "    elif user_choice =='q':\n",
    "        break\n",
    "    else:\n",
    "        print('Invalid Choice.Select from the given menu ')\n",
    "    if not verify_chain():\n",
    "        print('Invalid Blockchain!!')\n",
    "        break\n",
    "\n",
    "\n",
    "print(\"Done\")"
   ]
  },
  {
   "cell_type": "code",
   "execution_count": null,
   "metadata": {
    "collapsed": true
   },
   "outputs": [],
   "source": []
  },
  {
   "cell_type": "code",
   "execution_count": null,
   "metadata": {
    "collapsed": true
   },
   "outputs": [],
   "source": []
  },
  {
   "cell_type": "code",
   "execution_count": null,
   "metadata": {
    "collapsed": true
   },
   "outputs": [],
   "source": []
  }
 ],
 "metadata": {
  "kernelspec": {
   "display_name": "Python 3",
   "language": "python",
   "name": "python3"
  },
  "language_info": {
   "codemirror_mode": {
    "name": "ipython",
    "version": 3
   },
   "file_extension": ".py",
   "mimetype": "text/x-python",
   "name": "python",
   "nbconvert_exporter": "python",
   "pygments_lexer": "ipython3",
   "version": "3.6.3"
  }
 },
 "nbformat": 4,
 "nbformat_minor": 2
}
