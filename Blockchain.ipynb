{
 "cells": [
  {
   "cell_type": "code",
   "execution_count": null,
   "metadata": {},
   "outputs": [],
   "source": [
    "blockchain = []\n",
    "\n",
    "def get_last_value():\n",
    "    \"\"\" Return last value appended\"\"\"\n",
    "    if len(blockchain) < 1:\n",
    "        return None\n",
    "    return blockchain[-1]\n",
    "\n",
    "def add_value(amount, last_tr=[1.0]):\n",
    "    if last_tr == None:\n",
    "        last_tr = [1]\n",
    "    blockchain.append([last_tr,amount])\n",
    "    \n",
    "def get_transactional_value():\n",
    "    return float(input('Enter the amount:')) \n",
    "\n",
    "def get_user_choice():\n",
    "    return input('Your Choice:')\n",
    "\n",
    "\n",
    "def print_blockchain_elements():\n",
    "    for block in blockchain:\n",
    "            print('Output Block')\n",
    "            print(block)\n",
    "    else:\n",
    "        print('--'*20)\n",
    "\n",
    "def verify_chain():\n",
    "    is_valid = True\n",
    "    \n",
    "    for blockchain_index in range(len(blockchain)):\n",
    "        if blockchain_index == 0:\n",
    "            continue\n",
    "        elif blockchain[blockchain_index][0] == blockchain[blockchain_index - 1]:\n",
    "            is_valid = True\n",
    "        else:\n",
    "            is_valid = False\n",
    "            break\n",
    "    \n",
    "    return is_valid\n",
    "            \n",
    "#print(blockchain)\n",
    "wait_time = True\n",
    "\n",
    "while wait_time:\n",
    "    print('Please Choose')\n",
    "    print('1.Enter the transaction amount')\n",
    "    print('2.Output the blocks')\n",
    "    print('h.Manipuulate the blockchain')\n",
    "    print('q.Quit')\n",
    "    user_choice = get_user_choice()\n",
    "    \n",
    "    if user_choice =='1':\n",
    "        tx_amount =get_transactional_value()\n",
    "        add_value(tx_amount,get_last_value())\n",
    "    elif user_choice =='2':\n",
    "        print_blockchain_elements()\n",
    "    elif user_choice =='h':\n",
    "        if len(blockchain)>=1:\n",
    "            blockchain[0] = [2]\n",
    "    elif user_choice =='q':\n",
    "        wait_time = False\n",
    "    else:\n",
    "        print('Invalid Choice.Select from the given menu ')\n",
    "    if not verify_chain():\n",
    "        print_blockchain_elements()\n",
    "        print('Invalid Blockchain!!')\n",
    "        break\n",
    "else:\n",
    "    print('User Left')\n",
    "\n",
    "print(\"Done\")"
   ]
  },
  {
   "cell_type": "code",
   "execution_count": null,
   "metadata": {
    "collapsed": true
   },
   "outputs": [],
   "source": []
  },
  {
   "cell_type": "code",
   "execution_count": null,
   "metadata": {
    "collapsed": true
   },
   "outputs": [],
   "source": []
  },
  {
   "cell_type": "code",
   "execution_count": null,
   "metadata": {
    "collapsed": true
   },
   "outputs": [],
   "source": []
  }
 ],
 "metadata": {
  "kernelspec": {
   "display_name": "Python 3",
   "language": "python",
   "name": "python3"
  },
  "language_info": {
   "codemirror_mode": {
    "name": "ipython",
    "version": 3
   },
   "file_extension": ".py",
   "mimetype": "text/x-python",
   "name": "python",
   "nbconvert_exporter": "python",
   "pygments_lexer": "ipython3",
   "version": "3.6.3"
  }
 },
 "nbformat": 4,
 "nbformat_minor": 2
}
